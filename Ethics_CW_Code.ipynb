{
  "nbformat": 4,
  "nbformat_minor": 0,
  "metadata": {
    "colab": {
      "provenance": [],
      "collapsed_sections": [],
      "authorship_tag": "ABX9TyOHSA5iwbLtQEHX7lXMSW9Q"
    },
    "kernelspec": {
      "name": "python3",
      "display_name": "Python 3"
    },
    "language_info": {
      "name": "python"
    }
  },
  "cells": [
    {
      "cell_type": "markdown",
      "source": [
        "# Setup"
      ],
      "metadata": {
        "id": "k2YHwIKLClQz"
      }
    },
    {
      "cell_type": "markdown",
      "source": [
        "## Installs"
      ],
      "metadata": {
        "id": "L9pnhmR9CwGo"
      }
    },
    {
      "cell_type": "code",
      "execution_count": null,
      "metadata": {
        "colab": {
          "base_uri": "https://localhost:8080/"
        },
        "id": "1Oaz1AYgBm4I",
        "outputId": "1d435a6f-0bea-48d6-9b85-68156fe442d6"
      },
      "outputs": [
        {
          "output_type": "stream",
          "name": "stdout",
          "text": [
            "Collecting aif360[LFR]\n",
            "  Downloading aif360-0.4.0-py3-none-any.whl (175 kB)\n",
            "\u001b[?25l\r\u001b[K     |█▉                              | 10 kB 15.9 MB/s eta 0:00:01\r\u001b[K     |███▊                            | 20 kB 9.6 MB/s eta 0:00:01\r\u001b[K     |█████▋                          | 30 kB 7.7 MB/s eta 0:00:01\r\u001b[K     |███████▌                        | 40 kB 6.9 MB/s eta 0:00:01\r\u001b[K     |█████████▍                      | 51 kB 5.4 MB/s eta 0:00:01\r\u001b[K     |███████████▎                    | 61 kB 5.4 MB/s eta 0:00:01\r\u001b[K     |█████████████                   | 71 kB 5.1 MB/s eta 0:00:01\r\u001b[K     |███████████████                 | 81 kB 5.7 MB/s eta 0:00:01\r\u001b[K     |████████████████▉               | 92 kB 5.7 MB/s eta 0:00:01\r\u001b[K     |██████████████████▊             | 102 kB 5.2 MB/s eta 0:00:01\r\u001b[K     |████████████████████▋           | 112 kB 5.2 MB/s eta 0:00:01\r\u001b[K     |██████████████████████▌         | 122 kB 5.2 MB/s eta 0:00:01\r\u001b[K     |████████████████████████▎       | 133 kB 5.2 MB/s eta 0:00:01\r\u001b[K     |██████████████████████████▏     | 143 kB 5.2 MB/s eta 0:00:01\r\u001b[K     |████████████████████████████    | 153 kB 5.2 MB/s eta 0:00:01\r\u001b[K     |██████████████████████████████  | 163 kB 5.2 MB/s eta 0:00:01\r\u001b[K     |███████████████████████████████▉| 174 kB 5.2 MB/s eta 0:00:01\r\u001b[K     |████████████████████████████████| 175 kB 5.2 MB/s \n",
            "\u001b[33mWARNING: aif360 0.4.0 does not provide the extra 'lfr'\u001b[0m\n",
            "\u001b[?25hRequirement already satisfied: scikit-learn>=0.22.1 in /usr/local/lib/python3.7/dist-packages (from aif360[LFR]) (1.0.2)\n",
            "Requirement already satisfied: matplotlib in /usr/local/lib/python3.7/dist-packages (from aif360[LFR]) (3.2.2)\n",
            "Collecting tempeh\n",
            "  Downloading tempeh-0.1.12-py3-none-any.whl (39 kB)\n",
            "Requirement already satisfied: pandas>=0.24.0 in /usr/local/lib/python3.7/dist-packages (from aif360[LFR]) (1.3.5)\n",
            "Requirement already satisfied: scipy<1.6.0,>=1.2.0 in /usr/local/lib/python3.7/dist-packages (from aif360[LFR]) (1.4.1)\n",
            "Requirement already satisfied: numpy>=1.16 in /usr/local/lib/python3.7/dist-packages (from aif360[LFR]) (1.21.5)\n",
            "Requirement already satisfied: pytz>=2017.3 in /usr/local/lib/python3.7/dist-packages (from pandas>=0.24.0->aif360[LFR]) (2018.9)\n",
            "Requirement already satisfied: python-dateutil>=2.7.3 in /usr/local/lib/python3.7/dist-packages (from pandas>=0.24.0->aif360[LFR]) (2.8.2)\n",
            "Requirement already satisfied: six>=1.5 in /usr/local/lib/python3.7/dist-packages (from python-dateutil>=2.7.3->pandas>=0.24.0->aif360[LFR]) (1.15.0)\n",
            "Requirement already satisfied: threadpoolctl>=2.0.0 in /usr/local/lib/python3.7/dist-packages (from scikit-learn>=0.22.1->aif360[LFR]) (3.1.0)\n",
            "Requirement already satisfied: joblib>=0.11 in /usr/local/lib/python3.7/dist-packages (from scikit-learn>=0.22.1->aif360[LFR]) (1.1.0)\n",
            "Requirement already satisfied: kiwisolver>=1.0.1 in /usr/local/lib/python3.7/dist-packages (from matplotlib->aif360[LFR]) (1.3.2)\n",
            "Requirement already satisfied: cycler>=0.10 in /usr/local/lib/python3.7/dist-packages (from matplotlib->aif360[LFR]) (0.11.0)\n",
            "Requirement already satisfied: pyparsing!=2.0.4,!=2.1.2,!=2.1.6,>=2.0.1 in /usr/local/lib/python3.7/dist-packages (from matplotlib->aif360[LFR]) (3.0.7)\n",
            "Requirement already satisfied: requests in /usr/local/lib/python3.7/dist-packages (from tempeh->aif360[LFR]) (2.23.0)\n",
            "Collecting shap\n",
            "  Downloading shap-0.40.0-cp37-cp37m-manylinux2010_x86_64.whl (564 kB)\n",
            "\u001b[K     |████████████████████████████████| 564 kB 31.2 MB/s \n",
            "\u001b[?25hCollecting memory-profiler\n",
            "  Downloading memory_profiler-0.60.0.tar.gz (38 kB)\n",
            "Requirement already satisfied: pytest in /usr/local/lib/python3.7/dist-packages (from tempeh->aif360[LFR]) (3.6.4)\n",
            "Requirement already satisfied: psutil in /usr/local/lib/python3.7/dist-packages (from memory-profiler->tempeh->aif360[LFR]) (5.4.8)\n",
            "Requirement already satisfied: pluggy<0.8,>=0.5 in /usr/local/lib/python3.7/dist-packages (from pytest->tempeh->aif360[LFR]) (0.7.1)\n",
            "Requirement already satisfied: py>=1.5.0 in /usr/local/lib/python3.7/dist-packages (from pytest->tempeh->aif360[LFR]) (1.11.0)\n",
            "Requirement already satisfied: atomicwrites>=1.0 in /usr/local/lib/python3.7/dist-packages (from pytest->tempeh->aif360[LFR]) (1.4.0)\n",
            "Requirement already satisfied: setuptools in /usr/local/lib/python3.7/dist-packages (from pytest->tempeh->aif360[LFR]) (57.4.0)\n",
            "Requirement already satisfied: attrs>=17.4.0 in /usr/local/lib/python3.7/dist-packages (from pytest->tempeh->aif360[LFR]) (21.4.0)\n",
            "Requirement already satisfied: more-itertools>=4.0.0 in /usr/local/lib/python3.7/dist-packages (from pytest->tempeh->aif360[LFR]) (8.12.0)\n",
            "Requirement already satisfied: urllib3!=1.25.0,!=1.25.1,<1.26,>=1.21.1 in /usr/local/lib/python3.7/dist-packages (from requests->tempeh->aif360[LFR]) (1.24.3)\n",
            "Requirement already satisfied: certifi>=2017.4.17 in /usr/local/lib/python3.7/dist-packages (from requests->tempeh->aif360[LFR]) (2021.10.8)\n",
            "Requirement already satisfied: chardet<4,>=3.0.2 in /usr/local/lib/python3.7/dist-packages (from requests->tempeh->aif360[LFR]) (3.0.4)\n",
            "Requirement already satisfied: idna<3,>=2.5 in /usr/local/lib/python3.7/dist-packages (from requests->tempeh->aif360[LFR]) (2.10)\n",
            "Requirement already satisfied: numba in /usr/local/lib/python3.7/dist-packages (from shap->tempeh->aif360[LFR]) (0.51.2)\n",
            "Collecting slicer==0.0.7\n",
            "  Downloading slicer-0.0.7-py3-none-any.whl (14 kB)\n",
            "Requirement already satisfied: cloudpickle in /usr/local/lib/python3.7/dist-packages (from shap->tempeh->aif360[LFR]) (1.3.0)\n",
            "Requirement already satisfied: tqdm>4.25.0 in /usr/local/lib/python3.7/dist-packages (from shap->tempeh->aif360[LFR]) (4.62.3)\n",
            "Requirement already satisfied: packaging>20.9 in /usr/local/lib/python3.7/dist-packages (from shap->tempeh->aif360[LFR]) (21.3)\n",
            "Requirement already satisfied: llvmlite<0.35,>=0.34.0.dev0 in /usr/local/lib/python3.7/dist-packages (from numba->shap->tempeh->aif360[LFR]) (0.34.0)\n",
            "Building wheels for collected packages: memory-profiler\n",
            "  Building wheel for memory-profiler (setup.py) ... \u001b[?25l\u001b[?25hdone\n",
            "  Created wheel for memory-profiler: filename=memory_profiler-0.60.0-py3-none-any.whl size=31284 sha256=7d9aed589b0c6e11b93c7b9bd0f57c1d1d9445bae669dac2faa0e5f05c72633f\n",
            "  Stored in directory: /root/.cache/pip/wheels/67/2b/fb/326e30d638c538e69a5eb0aa47f4223d979f502bbdb403950f\n",
            "Successfully built memory-profiler\n",
            "Installing collected packages: slicer, shap, memory-profiler, tempeh, aif360\n",
            "Successfully installed aif360-0.4.0 memory-profiler-0.60.0 shap-0.40.0 slicer-0.0.7 tempeh-0.1.12\n"
          ]
        }
      ],
      "source": [
        "!pip install 'aif360[LFR]'"
      ]
    },
    {
      "cell_type": "code",
      "source": [
        "pip install fairlearn"
      ],
      "metadata": {
        "colab": {
          "base_uri": "https://localhost:8080/"
        },
        "id": "n7REZoMaBr7k",
        "outputId": "4b96ef55-538e-4369-eb72-80927fdc92f5"
      },
      "execution_count": null,
      "outputs": [
        {
          "output_type": "stream",
          "name": "stdout",
          "text": [
            "Collecting fairlearn\n",
            "  Downloading fairlearn-0.7.0-py3-none-any.whl (177 kB)\n",
            "\u001b[?25l\r\u001b[K     |█▉                              | 10 kB 16.2 MB/s eta 0:00:01\r\u001b[K     |███▊                            | 20 kB 11.1 MB/s eta 0:00:01\r\u001b[K     |█████▌                          | 30 kB 9.2 MB/s eta 0:00:01\r\u001b[K     |███████▍                        | 40 kB 8.4 MB/s eta 0:00:01\r\u001b[K     |█████████▎                      | 51 kB 5.0 MB/s eta 0:00:01\r\u001b[K     |███████████                     | 61 kB 5.2 MB/s eta 0:00:01\r\u001b[K     |█████████████                   | 71 kB 5.4 MB/s eta 0:00:01\r\u001b[K     |██████████████▊                 | 81 kB 6.0 MB/s eta 0:00:01\r\u001b[K     |████████████████▋               | 92 kB 4.7 MB/s eta 0:00:01\r\u001b[K     |██████████████████▌             | 102 kB 5.1 MB/s eta 0:00:01\r\u001b[K     |████████████████████▎           | 112 kB 5.1 MB/s eta 0:00:01\r\u001b[K     |██████████████████████▏         | 122 kB 5.1 MB/s eta 0:00:01\r\u001b[K     |████████████████████████        | 133 kB 5.1 MB/s eta 0:00:01\r\u001b[K     |█████████████████████████▉      | 143 kB 5.1 MB/s eta 0:00:01\r\u001b[K     |███████████████████████████▊    | 153 kB 5.1 MB/s eta 0:00:01\r\u001b[K     |█████████████████████████████▌  | 163 kB 5.1 MB/s eta 0:00:01\r\u001b[K     |███████████████████████████████▍| 174 kB 5.1 MB/s eta 0:00:01\r\u001b[K     |████████████████████████████████| 177 kB 5.1 MB/s \n",
            "\u001b[?25hRequirement already satisfied: pandas>=0.25.1 in /usr/local/lib/python3.7/dist-packages (from fairlearn) (1.3.5)\n",
            "Requirement already satisfied: numpy>=1.17.2 in /usr/local/lib/python3.7/dist-packages (from fairlearn) (1.21.5)\n",
            "Requirement already satisfied: scipy>=1.4.1 in /usr/local/lib/python3.7/dist-packages (from fairlearn) (1.4.1)\n",
            "Requirement already satisfied: scikit-learn>=0.22.1 in /usr/local/lib/python3.7/dist-packages (from fairlearn) (1.0.2)\n",
            "Requirement already satisfied: python-dateutil>=2.7.3 in /usr/local/lib/python3.7/dist-packages (from pandas>=0.25.1->fairlearn) (2.8.2)\n",
            "Requirement already satisfied: pytz>=2017.3 in /usr/local/lib/python3.7/dist-packages (from pandas>=0.25.1->fairlearn) (2018.9)\n",
            "Requirement already satisfied: six>=1.5 in /usr/local/lib/python3.7/dist-packages (from python-dateutil>=2.7.3->pandas>=0.25.1->fairlearn) (1.15.0)\n",
            "Requirement already satisfied: threadpoolctl>=2.0.0 in /usr/local/lib/python3.7/dist-packages (from scikit-learn>=0.22.1->fairlearn) (3.1.0)\n",
            "Requirement already satisfied: joblib>=0.11 in /usr/local/lib/python3.7/dist-packages (from scikit-learn>=0.22.1->fairlearn) (1.1.0)\n",
            "Installing collected packages: fairlearn\n",
            "Successfully installed fairlearn-0.7.0\n"
          ]
        }
      ]
    },
    {
      "cell_type": "markdown",
      "source": [
        "## Downloading dataset\n",
        "\n",
        "Download either the Adult Census Income dataset, or the German Credit Score dataset (not both at the same time), by executing the corresponding cells below.\n",
        "\n",
        "IMPORTANT: to check the code, I would recommend using the German Credit data-set. This is faster, and depending on your setup, you may run out of RAM with the Adult Census dataset."
      ],
      "metadata": {
        "id": "eRNJAxMAC0ql"
      }
    },
    {
      "cell_type": "markdown",
      "source": [
        "### Adult Census Income"
      ],
      "metadata": {
        "id": "XYHy87Q5DA54"
      }
    },
    {
      "cell_type": "code",
      "source": [
        "cd /usr/local/lib/python3.7/dist-packages/aif360/data/raw/adult"
      ],
      "metadata": {
        "colab": {
          "base_uri": "https://localhost:8080/"
        },
        "id": "4NPxvKgGBzy5",
        "outputId": "5af7b2f3-9954-41c1-9704-b308b1bc4751"
      },
      "execution_count": null,
      "outputs": [
        {
          "output_type": "stream",
          "name": "stdout",
          "text": [
            "/usr/local/lib/python3.7/dist-packages/aif360/data/raw/adult\n"
          ]
        }
      ]
    },
    {
      "cell_type": "code",
      "source": [
        "!wget https://archive.ics.uci.edu/ml/machine-learning-databases/adult/adult.data\n",
        "!wget https://archive.ics.uci.edu/ml/machine-learning-databases/adult/adult.names\n",
        "!wget https://archive.ics.uci.edu/ml/machine-learning-databases/adult/adult.test"
      ],
      "metadata": {
        "colab": {
          "base_uri": "https://localhost:8080/"
        },
        "id": "2Ew6JxRRB2QP",
        "outputId": "3344f152-0e90-41b5-97a4-9b2a1dd2e393"
      },
      "execution_count": null,
      "outputs": [
        {
          "output_type": "stream",
          "name": "stdout",
          "text": [
            "--2022-02-16 10:19:57--  https://archive.ics.uci.edu/ml/machine-learning-databases/adult/adult.data\n",
            "Resolving archive.ics.uci.edu (archive.ics.uci.edu)... 128.195.10.252\n",
            "Connecting to archive.ics.uci.edu (archive.ics.uci.edu)|128.195.10.252|:443... connected.\n",
            "HTTP request sent, awaiting response... 200 OK\n",
            "Length: 3974305 (3.8M) [application/x-httpd-php]\n",
            "Saving to: ‘adult.data’\n",
            "\n",
            "adult.data          100%[===================>]   3.79M  3.18MB/s    in 1.2s    \n",
            "\n",
            "2022-02-16 10:19:58 (3.18 MB/s) - ‘adult.data’ saved [3974305/3974305]\n",
            "\n",
            "--2022-02-16 10:19:58--  https://archive.ics.uci.edu/ml/machine-learning-databases/adult/adult.names\n",
            "Resolving archive.ics.uci.edu (archive.ics.uci.edu)... 128.195.10.252\n",
            "Connecting to archive.ics.uci.edu (archive.ics.uci.edu)|128.195.10.252|:443... connected.\n",
            "HTTP request sent, awaiting response... 200 OK\n",
            "Length: 5229 (5.1K) [application/x-httpd-php]\n",
            "Saving to: ‘adult.names’\n",
            "\n",
            "adult.names         100%[===================>]   5.11K  --.-KB/s    in 0s      \n",
            "\n",
            "2022-02-16 10:19:59 (238 MB/s) - ‘adult.names’ saved [5229/5229]\n",
            "\n",
            "--2022-02-16 10:19:59--  https://archive.ics.uci.edu/ml/machine-learning-databases/adult/adult.test\n",
            "Resolving archive.ics.uci.edu (archive.ics.uci.edu)... 128.195.10.252\n",
            "Connecting to archive.ics.uci.edu (archive.ics.uci.edu)|128.195.10.252|:443... connected.\n",
            "HTTP request sent, awaiting response... 200 OK\n",
            "Length: 2003153 (1.9M) [application/x-httpd-php]\n",
            "Saving to: ‘adult.test’\n",
            "\n",
            "adult.test          100%[===================>]   1.91M  1.82MB/s    in 1.0s    \n",
            "\n",
            "2022-02-16 10:20:01 (1.82 MB/s) - ‘adult.test’ saved [2003153/2003153]\n",
            "\n"
          ]
        }
      ]
    },
    {
      "cell_type": "markdown",
      "source": [
        "### German Credit Score"
      ],
      "metadata": {
        "id": "2SCioGDfDGhJ"
      }
    },
    {
      "cell_type": "code",
      "source": [
        "cd /usr/local/lib/python3.7/dist-packages/aif360/data/raw/german"
      ],
      "metadata": {
        "colab": {
          "base_uri": "https://localhost:8080/"
        },
        "id": "OoeFRlVmO7pd",
        "outputId": "d034c0de-b965-4c7f-a62b-92cd0ca0b8bb"
      },
      "execution_count": null,
      "outputs": [
        {
          "output_type": "stream",
          "name": "stdout",
          "text": [
            "/usr/local/lib/python3.7/dist-packages/aif360/data/raw/german\n"
          ]
        }
      ]
    },
    {
      "cell_type": "code",
      "source": [
        "!wget https://archive.ics.uci.edu/ml/machine-learning-databases/statlog/german/german.data\n",
        "!wget\thttps://archive.ics.uci.edu/ml/machine-learning-databases/statlog/german/german.doc"
      ],
      "metadata": {
        "colab": {
          "base_uri": "https://localhost:8080/"
        },
        "id": "ftzy_2hJO724",
        "outputId": "91579212-4967-4f6b-d71e-bb3601a08de2"
      },
      "execution_count": null,
      "outputs": [
        {
          "output_type": "stream",
          "name": "stdout",
          "text": [
            "--2022-02-16 10:57:18--  https://archive.ics.uci.edu/ml/machine-learning-databases/statlog/german/german.data\n",
            "Resolving archive.ics.uci.edu (archive.ics.uci.edu)... 128.195.10.252\n",
            "Connecting to archive.ics.uci.edu (archive.ics.uci.edu)|128.195.10.252|:443... connected.\n",
            "HTTP request sent, awaiting response... 200 OK\n",
            "Length: 79793 (78K) [application/x-httpd-php]\n",
            "Saving to: ‘german.data’\n",
            "\n",
            "german.data         100%[===================>]  77.92K  --.-KB/s    in 0.1s    \n",
            "\n",
            "2022-02-16 10:57:18 (595 KB/s) - ‘german.data’ saved [79793/79793]\n",
            "\n",
            "--2022-02-16 10:57:18--  https://archive.ics.uci.edu/ml/machine-learning-databases/statlog/german/german.doc\n",
            "Resolving archive.ics.uci.edu (archive.ics.uci.edu)... 128.195.10.252\n",
            "Connecting to archive.ics.uci.edu (archive.ics.uci.edu)|128.195.10.252|:443... connected.\n",
            "HTTP request sent, awaiting response... 200 OK\n",
            "Length: 4679 (4.6K) [application/x-httpd-php]\n",
            "Saving to: ‘german.doc’\n",
            "\n",
            "german.doc          100%[===================>]   4.57K  --.-KB/s    in 0s      \n",
            "\n",
            "2022-02-16 10:57:19 (85.9 MB/s) - ‘german.doc’ saved [4679/4679]\n",
            "\n"
          ]
        }
      ]
    },
    {
      "cell_type": "markdown",
      "source": [
        "## Imports"
      ],
      "metadata": {
        "id": "NyJH7RBBDMHp"
      }
    },
    {
      "cell_type": "code",
      "source": [
        "# Import libraries\n",
        "\n",
        "import numpy as np\n",
        "from numpy.random import default_rng\n",
        "from aif360.datasets import AdultDataset, CompasDataset, GermanDataset\n",
        "from aif360.algorithms.preprocessing.optim_preproc_helpers.data_preproc_functions import load_preproc_data_adult, load_preproc_data_compas, load_preproc_data_german\n",
        "from aif360.metrics import ClassificationMetric\n",
        "from aif360.algorithms.preprocessing.reweighing import Reweighing\n",
        "import pdb\n",
        "from sklearn.preprocessing import StandardScaler, MinMaxScaler\n",
        "from sklearn.linear_model import LogisticRegression\n",
        "from sklearn.neural_network import MLPClassifier\n",
        "from sklearn.model_selection import *\n",
        "from sklearn.metrics import accuracy_score\n",
        "from copy import deepcopy\n",
        "import matplotlib.pyplot as plt\n",
        "plt.rcParams['font.family'] = 'serif'\n",
        "plt.rcParams['font.serif'] = ['Times New Roman'] + plt.rcParams['font.serif']\n",
        "plt.rc('font', size=12) \n",
        "from mpl_toolkits.axes_grid1 import host_subplot\n",
        "from mpl_toolkits import axisartist\n",
        "from google.colab import files\n",
        "\n",
        "# np.random.seed(0)"
      ],
      "metadata": {
        "id": "nACyvdQSB5Jl"
      },
      "execution_count": null,
      "outputs": []
    },
    {
      "cell_type": "markdown",
      "source": [
        "## Setting up privileged group\n",
        "\n",
        "Depending on chosen dataset, execute the corresponding cell (not both)"
      ],
      "metadata": {
        "id": "yjbgFBSVDTd6"
      }
    },
    {
      "cell_type": "code",
      "source": [
        "# Set priviledged group for Adult Dataset\n",
        "privileged_groups = [{'sex': 1}]\n",
        "unprivileged_groups = [{'sex': 0}]\n",
        "# Load Adult Dataset\n",
        "dataset_orig = load_preproc_data_adult(['sex'])"
      ],
      "metadata": {
        "id": "Q6ZO75jHCLPF"
      },
      "execution_count": null,
      "outputs": []
    },
    {
      "cell_type": "code",
      "source": [
        "# Set priviledged group for German Dataset\n",
        "privileged_groups = [{'age': 1}]\n",
        "unprivileged_groups = [{'age': 0}]\n",
        "# Load German Dataset\n",
        "dataset_orig = load_preproc_data_german(['age'])"
      ],
      "metadata": {
        "id": "Kf1CvDGgPFF-"
      },
      "execution_count": null,
      "outputs": []
    },
    {
      "cell_type": "markdown",
      "source": [
        "## Splitting the dataset into train and test"
      ],
      "metadata": {
        "id": "DWnk6WL2Dt22"
      }
    },
    {
      "cell_type": "code",
      "source": [
        "# Split dataset into training and test set\n",
        "train, test = dataset_orig.split([0.7], shuffle=True)\n",
        "print(\"training data size\", train.features.shape)\n",
        "print(\"dataset feature names\", train.feature_names)\n",
        "print(train.label_names)"
      ],
      "metadata": {
        "colab": {
          "base_uri": "https://localhost:8080/"
        },
        "id": "7el0NEUUClnl",
        "outputId": "7f693615-e8dd-41ee-aef2-4b61f6d56dc3"
      },
      "execution_count": null,
      "outputs": [
        {
          "output_type": "stream",
          "name": "stdout",
          "text": [
            "training data size (700, 11)\n",
            "dataset feature names ['age', 'sex', 'credit_history=Delay', 'credit_history=None/Paid', 'credit_history=Other', 'savings=500+', 'savings=<500', 'savings=Unknown/None', 'employment=1-4 years', 'employment=4+ years', 'employment=Unemployed']\n",
            "['credit']\n"
          ]
        }
      ]
    },
    {
      "cell_type": "markdown",
      "source": [
        "## Load helper functions"
      ],
      "metadata": {
        "id": "D_aO1-ydEYq0"
      }
    },
    {
      "cell_type": "code",
      "source": [
        "def k_fold_split(num_folds, num_examples, random_generator=default_rng()):\n",
        "    \"\"\" Generate list of num_folds indicating examples for each fold\n",
        "\n",
        "    Args:\n",
        "        num_folds: number of folds\n",
        "        num_examples: number of examples per split\n",
        "        random_generator: random number generator\n",
        "\n",
        "    Returns:\n",
        "        indices_per_fold: list of length num_folds. Each element of the list\n",
        "        represents a fold and contains an array with indices of examples \n",
        "        assigned to that fold.\n",
        "    \"\"\"\n",
        "\n",
        "    # Assign each example randomly to an index\n",
        "    random_indices = random_generator.permutation(num_examples)\n",
        "\n",
        "    # Assign each index to a fold of equal size\n",
        "    indices_per_fold = np.array_split(random_indices, num_folds)\n",
        "\n",
        "    return indices_per_fold\n",
        "\n",
        "\n",
        "def get_train_val_id_per_fold(num_folds, num_examples, random_generator=default_rng()):\n",
        "    \"\"\" Get train and validation indices per fold\n",
        "\n",
        "    Args:\n",
        "        num_folds: number of folds\n",
        "        num_examples: number of examples per split\n",
        "        random_generator: random number generator\n",
        "\n",
        "    Returns:\n",
        "        fold_id_list: list of length num_folds. Each element corresponds to a\n",
        "            fold, and is a list containing two numpy arrays with train indices, \n",
        "            and dev indicess\n",
        "    \"\"\"\n",
        "\n",
        "    # split the dataset into k splits\n",
        "    indices_per_fold = k_fold_split(num_folds, num_examples, random_generator)\n",
        "\n",
        "    fold_id_list = []\n",
        "\n",
        "    for k in range(num_folds):\n",
        "        # define k to be val set\n",
        "        val_indices = indices_per_fold[k]\n",
        "\n",
        "        # remainder is train set\n",
        "        train_indices = np.hstack(indices_per_fold[:k] + indices_per_fold[k + 1:])\n",
        "\n",
        "        fold_id_list.append([train_indices, val_indices])\n",
        "\n",
        "    return fold_id_list"
      ],
      "metadata": {
        "id": "7fbaCDwsG-k6"
      },
      "execution_count": null,
      "outputs": []
    },
    {
      "cell_type": "code",
      "source": [
        "def run_cross_validation(num_folds, data, reg_strength, privileged_groups, unprivileged_groups, rw=False):\n",
        "    \"\"\"\n",
        "    Runs cross validation on dataset with evaluation\n",
        "\n",
        "    Splits data into k_folds. Then for each iteration applies scaling on\n",
        "    train and validation sets\n",
        "\n",
        "    :param num_folds: number of folds\n",
        "    :param data: the train dataset pre split into train/val (aif360)\n",
        "    :param reg_strength: degree of regularization (lower number is more reg)\n",
        "    :param rw: toggles re-weighing on and off\n",
        "    :return: mean accuracy across folds\n",
        "    \"\"\"\n",
        "    train_acc = []\n",
        "    accuracies = []\n",
        "    equality_of_opp = []\n",
        "\n",
        "    # Convert aif360 dataset to numpy array\n",
        "\n",
        "    data_features = np.asarray(data.features)\n",
        "    data_labels = np.asarray(data.labels)\n",
        "\n",
        "    num_examples = len(data_features)\n",
        "\n",
        "    for i, (train_indices, val_indices) in enumerate(get_train_val_id_per_fold(num_folds, num_examples)):\n",
        "        #print(f'------------{i}--------')\n",
        "        # Join x aand y, shuffle, then split\n",
        "        scaler = StandardScaler()\n",
        "\n",
        "        # Split data into training and validation set\n",
        "        x_training = scaler.fit_transform(data_features[train_indices, :])\n",
        "        y_training = data_labels[train_indices, :].ravel()\n",
        "\n",
        "        x_validation = scaler.transform(data_features[val_indices, :])\n",
        "        y_validation = data_labels[val_indices, :].ravel()\n",
        "\n",
        "        # Reweighting\n",
        "        if rw is True:\n",
        "          RW = Reweighing(unprivileged_groups=unprivileged_groups, privileged_groups=privileged_groups)\n",
        "          train_weights = RW.fit_transform(data.subset(train_indices))\n",
        "\n",
        "        # Train the model\n",
        "        model = LogisticRegression(solver='liblinear', random_state=1, C = reg_strength)\n",
        "        \n",
        "        if rw is True:\n",
        "          model.fit(x_training, y_training, sample_weight=train_weights.instance_weights)\n",
        "        else:\n",
        "          model.fit(x_training, y_training)\n",
        "        \n",
        "\n",
        "        # NN\n",
        "        # model = MLPClassifier(solver='adam', alpha=1e-5, hidden_layer_sizes=(20, 20, 20, 20))\n",
        "        # model.fit(x_training, y_training)\n",
        "        \n",
        "        # Make predictions on validation set\n",
        "        val_predictions = model.predict(x_validation) \n",
        "\n",
        "        # Compute accuracy for fold and add to list\n",
        "        accuracy = accuracy_score(y_validation, val_predictions) # if error may need to ravel predictions\n",
        "        accuracies.append(accuracy)\n",
        "\n",
        "        # # train accuracies\n",
        "        train_preds = model.predict(x_training)\n",
        "        train_acc.append(accuracy_score(y_training, train_preds)) # if error may need to ravel predictions\n",
        "\n",
        "\n",
        "        # Compute fairness metric\n",
        "        validation_aif_preds = deepcopy(data)\n",
        "        validation_aif_preds = validation_aif_preds.subset(val_indices)\n",
        "        validation_aif_preds.labels = val_predictions.reshape(-1,1)\n",
        "        \n",
        "        validation_aif = deepcopy(data)\n",
        "        validation_aif = validation_aif.subset(val_indices)\n",
        "        \n",
        "        metric = ClassificationMetric(validation_aif, validation_aif_preds, unprivileged_groups=unprivileged_groups, privileged_groups=privileged_groups)\n",
        "        e_o_f = (metric.equal_opportunity_difference())\n",
        "        equality_of_opp.append(e_o_f)\n",
        "\n",
        "    print(\"train - dev acc: \", np.mean(np.array(train_acc)) - np.mean(np.array(accuracies)))\n",
        "    # print(model.coef_)  # uncomment to inspect model coefficients\n",
        "    return np.mean(np.array(accuracies)), np.mean(np.array(equality_of_opp))"
      ],
      "metadata": {
        "id": "3Be0lBWHCmxA"
      },
      "execution_count": null,
      "outputs": []
    },
    {
      "cell_type": "code",
      "source": [
        "def regularization_analysis(reg_list, num_folds, data, privileged_groups, unprivileged_groups, rw=False):\n",
        "  \"\"\"\n",
        "  Runs the cross-validation for each C value in the passed list and returns\n",
        "  the list of mean accuracies and fairness scores.\n",
        "  \"\"\"\n",
        "  accuracy_list_across_regs = []\n",
        "  fairness_list_across_regs = []\n",
        "\n",
        "  for reg in reg_list:\n",
        "    mean_accuracy, mean_fairness = run_cross_validation(num_folds, data, reg, privileged_groups, unprivileged_groups, rw)\n",
        "    accuracy_list_across_regs.append(mean_accuracy)\n",
        "    fairness_list_across_regs.append(mean_fairness)\n",
        "\n",
        "  return accuracy_list_across_regs, fairness_list_across_regs"
      ],
      "metadata": {
        "id": "_jhBa6199CJi"
      },
      "execution_count": null,
      "outputs": []
    },
    {
      "cell_type": "code",
      "source": [
        "def get_test_performance(train_aif, test_aif, reg_strength, unprivileged_groups, privileged_groups, rw=False):\n",
        "  \"\"\"\n",
        "  Get the accuracy and fairness score on the test set\n",
        "  \"\"\"\n",
        "  # Re-train chosen model on whole training data\n",
        "  scaler = StandardScaler()\n",
        "\n",
        "  train_aif_copy = deepcopy(train_aif)\n",
        "  test_aif_copy = deepcopy(test_aif)\n",
        "  \n",
        "  x_training = scaler.fit_transform(train_aif_copy.features)\n",
        "  y_training = train_aif_copy.labels.ravel()\n",
        "\n",
        "  x_test = scaler.transform(test_aif_copy.features)\n",
        "  y_test = test_aif_copy.labels.ravel()\n",
        "\n",
        "  # Reweighting\n",
        "  if rw is True:\n",
        "    RW = Reweighing(unprivileged_groups=unprivileged_groups, privileged_groups=privileged_groups)\n",
        "    train_weights = RW.fit_transform(train_aif_copy)\n",
        "\n",
        "  # Train the model\n",
        "  model = LogisticRegression(solver='liblinear', random_state=1, C = reg_strength)\n",
        "        \n",
        "  if rw is True:\n",
        "    model.fit(x_training, y_training, sample_weight=train_weights.instance_weights)\n",
        "  else:\n",
        "    model.fit(x_training, y_training)\n",
        "\n",
        "  # Predict test set\n",
        "  test_predictions = model.predict(x_test) \n",
        "\n",
        "  # Compute accuracy\n",
        "  accuracy = (accuracy_score(y_test, test_predictions))\n",
        "\n",
        "  # Compute fairness\n",
        "  test_preds = deepcopy(test_aif_copy)\n",
        "  test_preds.labels = test_predictions.reshape(-1,1)\n",
        "  test_aif_copy_copy = deepcopy(test_aif_copy)\n",
        "  metric = ClassificationMetric(test_aif_copy_copy, test_preds, unprivileged_groups=unprivileged_groups, privileged_groups=privileged_groups)\n",
        "  e_o_d = (metric.equal_opportunity_difference())\n",
        "\n",
        "  return accuracy, e_o_d\n"
      ],
      "metadata": {
        "id": "vkfSYlYdtblN"
      },
      "execution_count": null,
      "outputs": []
    },
    {
      "cell_type": "code",
      "source": [
        "def fairness_accuracy_score(accuracy, e_o_d, acc_weight):\n",
        "  \"\"\"\n",
        "  Compute the accuracy-fairness hybrid score\n",
        "  \"\"\"\n",
        "  return acc_weight * accuracy + (1 - acc_weight) * (1 - abs(e_o_d))"
      ],
      "metadata": {
        "id": "QbCI703afBhK"
      },
      "execution_count": null,
      "outputs": []
    },
    {
      "cell_type": "code",
      "source": [
        "def draw_tradeoff(reg_list, accuracies, eods):\n",
        "  \"\"\"\n",
        "  Draw accuracies and fairness scores for each C value\n",
        "  \"\"\"\n",
        "\n",
        "  x = reg_list\n",
        "  y1 = accuracies\n",
        "  y2 = eods\n",
        "\n",
        "  fig, ax1 = plt.subplots(figsize=(7, 4))\n",
        "\n",
        "  ax2 = ax1.twinx()\n",
        "  ax1.plot(x, y1, 'g-')\n",
        "  ax2.plot(x, y2, 'b-')\n",
        "\n",
        "  ax1.set_xlabel('Regularization (C)')\n",
        "  ax1.set_xscale('log')\n",
        "  ax1.set_ylabel('Accuracy', color='g')\n",
        "  ax2.set_ylabel('Equality of opportunity', color='b')\n",
        "\n",
        "  plt.tight_layout()\n",
        "\n",
        "  plt.savefig(\"figure_ethics.png\")\n",
        "  files.download(\"figure_ethics.png\") \n",
        "\n",
        "  plt.show()"
      ],
      "metadata": {
        "id": "13f-zcIn1Q7P"
      },
      "execution_count": null,
      "outputs": []
    },
    {
      "cell_type": "code",
      "source": [
        "def plot_tradeoff_and_score(reg_list, accuracies, eods, scores):\n",
        "  \"\"\"\n",
        "  Draw accuracies, fairness scores and hybrid score for each C value\n",
        "  \"\"\"\n",
        "  host = host_subplot(111, axes_class=axisartist.Axes)\n",
        "  plt.subplots_adjust(right=0.75)\n",
        "\n",
        "  par1 = host.twinx()\n",
        "  par2 = host.twinx()\n",
        "\n",
        "  par2.axis[\"right\"] = par2.new_fixed_axis(loc=\"right\", offset=(60, 0))\n",
        "\n",
        "  par1.axis[\"right\"].toggle(all=True)\n",
        "  par2.axis[\"right\"].toggle(all=True)\n",
        "\n",
        "  p1, = host.plot(reg_list, accuracies, label=\"Accuracy\")\n",
        "  p2, = par1.plot(reg_list, eods, label=\"Equality of Opportunity\")\n",
        "  p3, = par2.plot(reg_list, scores, label=\"Scores\", linestyle='dashed', linewidth=1)\n",
        "\n",
        "  host.set_xlabel(\"Regularization (C)\")\n",
        "  host.set_xscale('log')\n",
        "  host.set_ylabel(\"Accuracy\")\n",
        "  par1.set_ylabel(\"Equality of Oppoortunity\")\n",
        "  par2.set_ylabel(\"Scores\")\n",
        "\n",
        "  host.axis[\"left\"].label.set_color(p1.get_color())\n",
        "  par1.axis[\"right\"].label.set_color(p2.get_color())\n",
        "  par2.axis[\"right\"].label.set_color(p3.get_color())\n",
        "\n",
        "  plt.tight_layout()\n",
        "  plt.savefig(\"figure_ethics.png\")\n",
        "  files.download(\"figure_ethics.png\") \n",
        "  plt.show()"
      ],
      "metadata": {
        "id": "QY2n2hSaIGg5"
      },
      "execution_count": null,
      "outputs": []
    },
    {
      "cell_type": "code",
      "source": [
        "# Set-up list of C values to check (regularization parameters)\n",
        "reg_list = [0.00000001, 0.0000001, 0.000001, 0.00001, 0.0001, 0.001, 0.01, 0.1, 1, 10, 100, 1000, 10000, 100000, 1000000]"
      ],
      "metadata": {
        "id": "CsYi6aTh1V_t"
      },
      "execution_count": null,
      "outputs": []
    },
    {
      "cell_type": "markdown",
      "source": [
        "## Task 1"
      ],
      "metadata": {
        "id": "7O3oql7GzbqJ"
      }
    },
    {
      "cell_type": "code",
      "source": [
        "# Run cross-validation analysis for each C\n",
        "acc_task_1, eod_task_1 = regularization_analysis(reg_list, 5, dataset_orig, privileged_groups, unprivileged_groups)"
      ],
      "metadata": {
        "id": "SfRmirAWy4lK",
        "colab": {
          "base_uri": "https://localhost:8080/"
        },
        "outputId": "e574da90-a98a-4eee-f15c-729ab26d148b"
      },
      "execution_count": null,
      "outputs": [
        {
          "output_type": "stream",
          "name": "stdout",
          "text": [
            "train - dev acc:  0.00725000000000009\n",
            "train - dev acc:  0.019000000000000128\n",
            "train - dev acc:  -0.003250000000000086\n",
            "train - dev acc:  -0.0010000000000000009\n",
            "train - dev acc:  0.002749999999999919\n",
            "train - dev acc:  0.005999999999999894\n",
            "train - dev acc:  0.01100000000000001\n",
            "train - dev acc:  -0.0014999999999998348\n",
            "train - dev acc:  0.015499999999999958\n",
            "train - dev acc:  0.005750000000000033\n",
            "train - dev acc:  0.01200000000000001\n",
            "train - dev acc:  0.003249999999999975\n",
            "train - dev acc:  0.012750000000000039\n",
            "train - dev acc:  0.004249999999999976\n",
            "train - dev acc:  0.012749999999999928\n"
          ]
        }
      ]
    },
    {
      "cell_type": "code",
      "source": [
        "# Visualise the trade-off\n",
        "draw_tradeoff(reg_list, acc_task_1, eod_task_1)"
      ],
      "metadata": {
        "colab": {
          "base_uri": "https://localhost:8080/",
          "height": 293
        },
        "id": "fq_0zihY5eZU",
        "outputId": "439da4c6-9d3f-45c3-fda6-76497f378d80"
      },
      "execution_count": null,
      "outputs": [
        {
          "output_type": "display_data",
          "data": {
            "application/javascript": [
              "\n",
              "    async function download(id, filename, size) {\n",
              "      if (!google.colab.kernel.accessAllowed) {\n",
              "        return;\n",
              "      }\n",
              "      const div = document.createElement('div');\n",
              "      const label = document.createElement('label');\n",
              "      label.textContent = `Downloading \"${filename}\": `;\n",
              "      div.appendChild(label);\n",
              "      const progress = document.createElement('progress');\n",
              "      progress.max = size;\n",
              "      div.appendChild(progress);\n",
              "      document.body.appendChild(div);\n",
              "\n",
              "      const buffers = [];\n",
              "      let downloaded = 0;\n",
              "\n",
              "      const channel = await google.colab.kernel.comms.open(id);\n",
              "      // Send a message to notify the kernel that we're ready.\n",
              "      channel.send({})\n",
              "\n",
              "      for await (const message of channel.messages) {\n",
              "        // Send a message to notify the kernel that we're ready.\n",
              "        channel.send({})\n",
              "        if (message.buffers) {\n",
              "          for (const buffer of message.buffers) {\n",
              "            buffers.push(buffer);\n",
              "            downloaded += buffer.byteLength;\n",
              "            progress.value = downloaded;\n",
              "          }\n",
              "        }\n",
              "      }\n",
              "      const blob = new Blob(buffers, {type: 'application/binary'});\n",
              "      const a = document.createElement('a');\n",
              "      a.href = window.URL.createObjectURL(blob);\n",
              "      a.download = filename;\n",
              "      div.appendChild(a);\n",
              "      a.click();\n",
              "      div.remove();\n",
              "    }\n",
              "  "
            ],
            "text/plain": [
              "<IPython.core.display.Javascript object>"
            ]
          },
          "metadata": {}
        },
        {
          "output_type": "display_data",
          "data": {
            "application/javascript": [
              "download(\"download_be888011-ba17-4e5d-b74b-5a18a7a1b046\", \"figure_ethics.png\", 33142)"
            ],
            "text/plain": [
              "<IPython.core.display.Javascript object>"
            ]
          },
          "metadata": {}
        },
        {
          "output_type": "display_data",
          "data": {
            "image/png": "[encoded data removed]",
            "text/plain": [
              "<Figure size 504x288 with 2 Axes>"
            ]
          },
          "metadata": {
            "needs_background": "light"
          }
        }
      ]
    },
    {
      "cell_type": "code",
      "source": [
        "# Retrieve best model for accuracy and fairness\n",
        "best_acc_index_task_1 = np.array(acc_task_1).argmax()\n",
        "best_eod_index_task_1 = np.argmin(np.abs(eod_task_1))\n",
        "print(reg_list[best_acc_index_task_1])\n",
        "print(reg_list[best_eod_index_task_1])"
      ],
      "metadata": {
        "id": "Lb0rWHNw1o1W",
        "colab": {
          "base_uri": "https://localhost:8080/"
        },
        "outputId": "0453a4a5-968a-4e10-e45f-dd517cfcf455"
      },
      "execution_count": null,
      "outputs": [
        {
          "output_type": "stream",
          "name": "stdout",
          "text": [
            "0.1\n",
            "1e-08\n"
          ]
        }
      ]
    },
    {
      "cell_type": "code",
      "source": [
        "# Test performance accuracy based selected model:\n",
        "get_test_performance(train, test, reg_list[best_acc_index_task_1], unprivileged_groups, privileged_groups, rw=False)"
      ],
      "metadata": {
        "colab": {
          "base_uri": "https://localhost:8080/"
        },
        "id": "MoqvKA9Xv7md",
        "outputId": "4afca525-51eb-4735-a8cc-b72ffcbfb58a"
      },
      "execution_count": null,
      "outputs": [
        {
          "output_type": "execute_result",
          "data": {
            "text/plain": [
              "(0.7133333333333334, -0.1515151515151515)"
            ]
          },
          "metadata": {},
          "execution_count": 64
        }
      ]
    },
    {
      "cell_type": "code",
      "source": [
        "# Test performance fairness based selected model:\n",
        "get_test_performance(train, test, reg_list[best_eod_index_task_1], unprivileged_groups, privileged_groups, rw=False)"
      ],
      "metadata": {
        "colab": {
          "base_uri": "https://localhost:8080/"
        },
        "id": "v78fT2kawMVq",
        "outputId": "c7689c34-9f9b-4756-e625-da7cf6dbd84f"
      },
      "execution_count": null,
      "outputs": [
        {
          "output_type": "execute_result",
          "data": {
            "text/plain": [
              "(0.6466666666666666, -0.4015151515151515)"
            ]
          },
          "metadata": {},
          "execution_count": 65
        }
      ]
    },
    {
      "cell_type": "markdown",
      "source": [
        "## Task 2"
      ],
      "metadata": {
        "id": "13MlelNorw_Z"
      }
    },
    {
      "cell_type": "code",
      "source": [
        "# Run cross-validation analysis for each C, with re-weighing\n",
        "acc_task_2, eod_task_2 = regularization_analysis(reg_list, 5, dataset_orig, privileged_groups, unprivileged_groups, rw=True)"
      ],
      "metadata": {
        "id": "vcYzenMeNUaJ",
        "colab": {
          "base_uri": "https://localhost:8080/"
        },
        "outputId": "9e575d2c-e451-430c-c530-291849e01691"
      },
      "execution_count": null,
      "outputs": [
        {
          "output_type": "stream",
          "name": "stdout",
          "text": [
            "train - dev acc:  0.00275000000000003\n",
            "train - dev acc:  0.011749999999999927\n",
            "train - dev acc:  0.0034999999999998366\n",
            "train - dev acc:  0.007000000000000006\n",
            "train - dev acc:  0.011749999999999816\n",
            "train - dev acc:  0.015750000000000042\n",
            "train - dev acc:  0.0014999999999998348\n",
            "train - dev acc:  0.003750000000000031\n",
            "train - dev acc:  0.0022500000000000853\n",
            "train - dev acc:  0.013000000000000012\n",
            "train - dev acc:  0.002749999999999919\n",
            "train - dev acc:  0.004250000000000087\n",
            "train - dev acc:  0.003750000000000031\n",
            "train - dev acc:  0.005499999999999949\n",
            "train - dev acc:  0.004250000000000087\n"
          ]
        }
      ]
    },
    {
      "cell_type": "code",
      "source": [
        "# Visualise the trade-off\n",
        "draw_tradeoff(reg_list, acc_task_2, eod_task_2)"
      ],
      "metadata": {
        "colab": {
          "base_uri": "https://localhost:8080/",
          "height": 293
        },
        "id": "dUM2FFbZ5-ZR",
        "outputId": "298bbdb4-1d8e-41b0-9175-97adadbcd8c6"
      },
      "execution_count": null,
      "outputs": [
        {
          "output_type": "display_data",
          "data": {
            "application/javascript": [
              "\n",
              "    async function download(id, filename, size) {\n",
              "      if (!google.colab.kernel.accessAllowed) {\n",
              "        return;\n",
              "      }\n",
              "      const div = document.createElement('div');\n",
              "      const label = document.createElement('label');\n",
              "      label.textContent = `Downloading \"${filename}\": `;\n",
              "      div.appendChild(label);\n",
              "      const progress = document.createElement('progress');\n",
              "      progress.max = size;\n",
              "      div.appendChild(progress);\n",
              "      document.body.appendChild(div);\n",
              "\n",
              "      const buffers = [];\n",
              "      let downloaded = 0;\n",
              "\n",
              "      const channel = await google.colab.kernel.comms.open(id);\n",
              "      // Send a message to notify the kernel that we're ready.\n",
              "      channel.send({})\n",
              "\n",
              "      for await (const message of channel.messages) {\n",
              "        // Send a message to notify the kernel that we're ready.\n",
              "        channel.send({})\n",
              "        if (message.buffers) {\n",
              "          for (const buffer of message.buffers) {\n",
              "            buffers.push(buffer);\n",
              "            downloaded += buffer.byteLength;\n",
              "            progress.value = downloaded;\n",
              "          }\n",
              "        }\n",
              "      }\n",
              "      const blob = new Blob(buffers, {type: 'application/binary'});\n",
              "      const a = document.createElement('a');\n",
              "      a.href = window.URL.createObjectURL(blob);\n",
              "      a.download = filename;\n",
              "      div.appendChild(a);\n",
              "      a.click();\n",
              "      div.remove();\n",
              "    }\n",
              "  "
            ],
            "text/plain": [
              "<IPython.core.display.Javascript object>"
            ]
          },
          "metadata": {}
        },
        {
          "output_type": "display_data",
          "data": {
            "application/javascript": [
              "download(\"download_8787c921-913a-42de-a618-3acffa712932\", \"figure_ethics.png\", 24168)"
            ],
            "text/plain": [
              "<IPython.core.display.Javascript object>"
            ]
          },
          "metadata": {}
        },
        {
          "output_type": "display_data",
          "data": {
            "image/png": "[encoded data removed]",
            "text/plain": [
              "<Figure size 504x288 with 2 Axes>"
            ]
          },
          "metadata": {
            "needs_background": "light"
          }
        }
      ]
    },
    {
      "cell_type": "code",
      "source": [
        "# Retrieve best model for accuracy and fairness\n",
        "best_acc_index_task_2 = np.array(acc_task_2).argmax()\n",
        "best_eod_index_task_2 = np.argmin(np.abs(eod_task_2))\n",
        "print(reg_list[best_acc_index_task_2])\n",
        "print(reg_list[best_eod_index_task_2])"
      ],
      "metadata": {
        "id": "5HcrlSOt3H4I",
        "colab": {
          "base_uri": "https://localhost:8080/"
        },
        "outputId": "3e448a09-16f4-48f5-9c64-265519db1d61"
      },
      "execution_count": null,
      "outputs": [
        {
          "output_type": "stream",
          "name": "stdout",
          "text": [
            "1\n",
            "1000000\n"
          ]
        }
      ]
    },
    {
      "cell_type": "code",
      "source": [
        "# Test performance accuracy based selection:\n",
        "get_test_performance(train, test, reg_list[best_acc_index_task_2], unprivileged_groups, privileged_groups, rw=True)"
      ],
      "metadata": {
        "colab": {
          "base_uri": "https://localhost:8080/"
        },
        "id": "SBI6EUYB10K3",
        "outputId": "564d361d-fd62-4759-e648-c94be503c9e7"
      },
      "execution_count": null,
      "outputs": [
        {
          "output_type": "execute_result",
          "data": {
            "text/plain": [
              "(0.6966666666666667, 0.0)"
            ]
          },
          "metadata": {},
          "execution_count": 69
        }
      ]
    },
    {
      "cell_type": "code",
      "source": [
        "# Test performance eod based selection:\n",
        "get_test_performance(train, test, reg_list[best_eod_index_task_2], unprivileged_groups, privileged_groups, rw=True)"
      ],
      "metadata": {
        "colab": {
          "base_uri": "https://localhost:8080/"
        },
        "id": "Su-NXWNlNVtF",
        "outputId": "066f6b7e-bca7-4853-9114-576b8c882498"
      },
      "execution_count": null,
      "outputs": [
        {
          "output_type": "execute_result",
          "data": {
            "text/plain": [
              "(0.6966666666666667, 0.0)"
            ]
          },
          "metadata": {},
          "execution_count": 70
        }
      ]
    },
    {
      "cell_type": "markdown",
      "source": [
        "Note, that with re-weighing, and depending on the data split, we often find that performance on the test set for the best accuracy based and best fairness based model are the same, even if their C-values differ slightly."
      ],
      "metadata": {
        "id": "TrkqmXNXIIbC"
      }
    },
    {
      "cell_type": "markdown",
      "source": [
        "## Task 3"
      ],
      "metadata": {
        "id": "0KYb_L7av6FL"
      }
    },
    {
      "cell_type": "markdown",
      "source": [
        "### Standard model"
      ],
      "metadata": {
        "id": "H3MaUn2LyZe2"
      }
    },
    {
      "cell_type": "code",
      "source": [
        "# Run cross-validation analysis for each C, no re-weighing\n",
        "acc_task_3_standard, eod_task_3_standard = regularization_analysis(reg_list, 5, dataset_orig, privileged_groups, unprivileged_groups)"
      ],
      "metadata": {
        "id": "EWChph-Jv7nl",
        "colab": {
          "base_uri": "https://localhost:8080/"
        },
        "outputId": "c3c75224-78b2-43d6-d424-c472705ae863"
      },
      "execution_count": null,
      "outputs": [
        {
          "output_type": "stream",
          "name": "stdout",
          "text": [
            "train - dev acc:  0.00275000000000003\n",
            "train - dev acc:  -0.0004999999999999449\n",
            "train - dev acc:  0.016750000000000043\n",
            "train - dev acc:  0.0022499999999999742\n",
            "train - dev acc:  0.0034999999999999476\n",
            "train - dev acc:  0.011499999999999955\n",
            "train - dev acc:  0.0045000000000000595\n",
            "train - dev acc:  0.018999999999999906\n",
            "train - dev acc:  0.01749999999999996\n",
            "train - dev acc:  0.006000000000000116\n",
            "train - dev acc:  0.022499999999999964\n",
            "train - dev acc:  0.007999999999999896\n",
            "train - dev acc:  0.0024999999999999467\n",
            "train - dev acc:  0.0030000000000000027\n",
            "train - dev acc:  -0.0030000000000000027\n"
          ]
        }
      ]
    },
    {
      "cell_type": "code",
      "source": [
        "# Retrieve hybrid score for each C\n",
        "scores_standard = []\n",
        "for i in range(len(acc_task_3_standard)):\n",
        "  scores_standard.append(fairness_accuracy_score(acc_task_3_standard[i], eod_task_3_standard[i], 0.5))"
      ],
      "metadata": {
        "id": "U8hp77gz1U_M"
      },
      "execution_count": null,
      "outputs": []
    },
    {
      "cell_type": "code",
      "source": [
        "# Visualise the trade-off and score\n",
        "plot_tradeoff_and_score(reg_list, acc_task_3_standard, eod_task_3_standard, scores_standard)"
      ],
      "metadata": {
        "colab": {
          "base_uri": "https://localhost:8080/",
          "height": 293
        },
        "id": "D7YaJJ5COYGk",
        "outputId": "21bfe696-69e8-4607-9ba8-130443422034"
      },
      "execution_count": null,
      "outputs": [
        {
          "output_type": "display_data",
          "data": {
            "application/javascript": [
              "\n",
              "    async function download(id, filename, size) {\n",
              "      if (!google.colab.kernel.accessAllowed) {\n",
              "        return;\n",
              "      }\n",
              "      const div = document.createElement('div');\n",
              "      const label = document.createElement('label');\n",
              "      label.textContent = `Downloading \"${filename}\": `;\n",
              "      div.appendChild(label);\n",
              "      const progress = document.createElement('progress');\n",
              "      progress.max = size;\n",
              "      div.appendChild(progress);\n",
              "      document.body.appendChild(div);\n",
              "\n",
              "      const buffers = [];\n",
              "      let downloaded = 0;\n",
              "\n",
              "      const channel = await google.colab.kernel.comms.open(id);\n",
              "      // Send a message to notify the kernel that we're ready.\n",
              "      channel.send({})\n",
              "\n",
              "      for await (const message of channel.messages) {\n",
              "        // Send a message to notify the kernel that we're ready.\n",
              "        channel.send({})\n",
              "        if (message.buffers) {\n",
              "          for (const buffer of message.buffers) {\n",
              "            buffers.push(buffer);\n",
              "            downloaded += buffer.byteLength;\n",
              "            progress.value = downloaded;\n",
              "          }\n",
              "        }\n",
              "      }\n",
              "      const blob = new Blob(buffers, {type: 'application/binary'});\n",
              "      const a = document.createElement('a');\n",
              "      a.href = window.URL.createObjectURL(blob);\n",
              "      a.download = filename;\n",
              "      div.appendChild(a);\n",
              "      a.click();\n",
              "      div.remove();\n",
              "    }\n",
              "  "
            ],
            "text/plain": [
              "<IPython.core.display.Javascript object>"
            ]
          },
          "metadata": {}
        },
        {
          "output_type": "display_data",
          "data": {
            "application/javascript": [
              "download(\"download_6ca4b7c6-c4a8-45b2-92aa-2111540e292a\", \"figure_ethics.png\", 34911)"
            ],
            "text/plain": [
              "<IPython.core.display.Javascript object>"
            ]
          },
          "metadata": {}
        },
        {
          "output_type": "display_data",
          "data": {
            "image/png": "[encoded data removed]",
            "text/plain": [
              "<Figure size 432x288 with 1 Axes>"
            ]
          },
          "metadata": {
            "needs_background": "light"
          }
        }
      ]
    },
    {
      "cell_type": "code",
      "source": [
        "# Retrieve the best model based on hybrid score and the score\n",
        "best_standard_model_index = np.array(scores_standard).argmax()\n",
        "print(reg_list[best_standard_model_index])\n",
        "print(np.array(scores_standard).max())"
      ],
      "metadata": {
        "id": "74LH2XOu1WYX",
        "colab": {
          "base_uri": "https://localhost:8080/"
        },
        "outputId": "29cc8fd1-2578-45b6-8fec-8ac6008f5eeb"
      },
      "execution_count": null,
      "outputs": [
        {
          "output_type": "stream",
          "name": "stdout",
          "text": [
            "1000000\n",
            "0.7290695970695971\n"
          ]
        }
      ]
    },
    {
      "cell_type": "code",
      "source": [
        "# Test set performance (standard model)\n",
        "get_test_performance(train, test, reg_list[best_standard_model_index], unprivileged_groups, privileged_groups, rw=False)"
      ],
      "metadata": {
        "colab": {
          "base_uri": "https://localhost:8080/"
        },
        "id": "xlvOVTPwyO4Q",
        "outputId": "bd307aab-ac47-47c6-efab-8e523320207a"
      },
      "execution_count": null,
      "outputs": [
        {
          "output_type": "execute_result",
          "data": {
            "text/plain": [
              "(0.7133333333333334, -0.1515151515151515)"
            ]
          },
          "metadata": {},
          "execution_count": 75
        }
      ]
    },
    {
      "cell_type": "markdown",
      "source": [
        "### Fairness model"
      ],
      "metadata": {
        "id": "Kogjpn_eyjcw"
      }
    },
    {
      "cell_type": "code",
      "source": [
        "# Run cross-validation analysis for each C, with re-weighing\n",
        "acc_task_3_fairness, eod_task_3_fairness = regularization_analysis(reg_list, 5, dataset_orig, privileged_groups, unprivileged_groups, rw=True)"
      ],
      "metadata": {
        "id": "wZDq9Q8V2Ey6",
        "colab": {
          "base_uri": "https://localhost:8080/"
        },
        "outputId": "0a02d430-2cf2-40e2-8c58-8a639a9dbd9f"
      },
      "execution_count": null,
      "outputs": [
        {
          "output_type": "stream",
          "name": "stdout",
          "text": [
            "train - dev acc:  0.004750000000000143\n",
            "train - dev acc:  0.006000000000000005\n",
            "train - dev acc:  0.010000000000000009\n",
            "train - dev acc:  0.005249999999999977\n",
            "train - dev acc:  0.0129999999999999\n",
            "train - dev acc:  0.01550000000000007\n",
            "train - dev acc:  0.0045000000000000595\n",
            "train - dev acc:  0.00024999999999986144\n",
            "train - dev acc:  0.010499999999999954\n",
            "train - dev acc:  0.004249999999999865\n",
            "train - dev acc:  0.013250000000000206\n",
            "train - dev acc:  0.008000000000000118\n",
            "train - dev acc:  0.005750000000000033\n",
            "train - dev acc:  0.005249999999999977\n",
            "train - dev acc:  0.000500000000000056\n"
          ]
        }
      ]
    },
    {
      "cell_type": "code",
      "source": [
        "# Retrieve hybrid score for each C\n",
        "scores_fairness = []\n",
        "for i in range(len(acc_task_3_fairness)):\n",
        "  scores_fairness.append(fairness_accuracy_score(acc_task_3_fairness[i], eod_task_3_fairness[i], 0.5))"
      ],
      "metadata": {
        "id": "CBzr9OFJ0Jyh"
      },
      "execution_count": null,
      "outputs": []
    },
    {
      "cell_type": "code",
      "source": [
        "# Retrieve the best model based on hybrid score and the score\n",
        "best_fairness_model_index = np.array(scores_fairness).argmax()\n",
        "print(reg_list[best_fairness_model_index])\n",
        "print(np.array(scores_fairness).max())"
      ],
      "metadata": {
        "id": "QAT8NV8R0bt5",
        "colab": {
          "base_uri": "https://localhost:8080/"
        },
        "outputId": "fe01aa27-0db2-405c-cb37-b286ecdf31c4"
      },
      "execution_count": null,
      "outputs": [
        {
          "output_type": "stream",
          "name": "stdout",
          "text": [
            "10\n",
            "0.8469344798896219\n"
          ]
        }
      ]
    },
    {
      "cell_type": "code",
      "source": [
        "# Visualise the trade-off and hybrid score\n",
        "plot_tradeoff_and_score(reg_list, acc_task_3_fairness, eod_task_3_fairness, scores_fairness)"
      ],
      "metadata": {
        "colab": {
          "base_uri": "https://localhost:8080/",
          "height": 293
        },
        "id": "T5aZMwQGNwe8",
        "outputId": "dee37b99-a449-4189-e647-b7f86ae01387"
      },
      "execution_count": null,
      "outputs": [
        {
          "output_type": "display_data",
          "data": {
            "application/javascript": [
              "\n",
              "    async function download(id, filename, size) {\n",
              "      if (!google.colab.kernel.accessAllowed) {\n",
              "        return;\n",
              "      }\n",
              "      const div = document.createElement('div');\n",
              "      const label = document.createElement('label');\n",
              "      label.textContent = `Downloading \"${filename}\": `;\n",
              "      div.appendChild(label);\n",
              "      const progress = document.createElement('progress');\n",
              "      progress.max = size;\n",
              "      div.appendChild(progress);\n",
              "      document.body.appendChild(div);\n",
              "\n",
              "      const buffers = [];\n",
              "      let downloaded = 0;\n",
              "\n",
              "      const channel = await google.colab.kernel.comms.open(id);\n",
              "      // Send a message to notify the kernel that we're ready.\n",
              "      channel.send({})\n",
              "\n",
              "      for await (const message of channel.messages) {\n",
              "        // Send a message to notify the kernel that we're ready.\n",
              "        channel.send({})\n",
              "        if (message.buffers) {\n",
              "          for (const buffer of message.buffers) {\n",
              "            buffers.push(buffer);\n",
              "            downloaded += buffer.byteLength;\n",
              "            progress.value = downloaded;\n",
              "          }\n",
              "        }\n",
              "      }\n",
              "      const blob = new Blob(buffers, {type: 'application/binary'});\n",
              "      const a = document.createElement('a');\n",
              "      a.href = window.URL.createObjectURL(blob);\n",
              "      a.download = filename;\n",
              "      div.appendChild(a);\n",
              "      a.click();\n",
              "      div.remove();\n",
              "    }\n",
              "  "
            ],
            "text/plain": [
              "<IPython.core.display.Javascript object>"
            ]
          },
          "metadata": {}
        },
        {
          "output_type": "display_data",
          "data": {
            "application/javascript": [
              "download(\"download_4cc00017-a6bd-40e3-b403-16b29e9d3f89\", \"figure_ethics.png\", 30497)"
            ],
            "text/plain": [
              "<IPython.core.display.Javascript object>"
            ]
          },
          "metadata": {}
        },
        {
          "output_type": "display_data",
          "data": {
            "image/png": "[encoded data removed]",
            "text/plain": [
              "<Figure size 432x288 with 1 Axes>"
            ]
          },
          "metadata": {
            "needs_background": "light"
          }
        }
      ]
    },
    {
      "cell_type": "code",
      "source": [
        "# Test set performance (fairness re-weighed model)\n",
        "get_test_performance(train, test, reg_list[best_fairness_model_index], unprivileged_groups, privileged_groups, rw=True)"
      ],
      "metadata": {
        "colab": {
          "base_uri": "https://localhost:8080/"
        },
        "id": "xkvabPMI0hH0",
        "outputId": "b61dbcf2-af02-4685-aca1-aed6cd16bba1"
      },
      "execution_count": null,
      "outputs": [
        {
          "output_type": "execute_result",
          "data": {
            "text/plain": [
              "(0.6966666666666667, 0.0)"
            ]
          },
          "metadata": {},
          "execution_count": 80
        }
      ]
    },
    {
      "cell_type": "markdown",
      "source": [
        "## Extension"
      ],
      "metadata": {
        "id": "AXEAovQy33V6"
      }
    },
    {
      "cell_type": "markdown",
      "source": [
        "### Re-define functions to allow for dropping sensitive feature"
      ],
      "metadata": {
        "id": "NbGYWgIkYeuz"
      }
    },
    {
      "cell_type": "code",
      "source": [
        "def run_cross_validation_del(num_folds, data, reg_strength, privileged_groups, unprivileged_groups, rw=False, del_index=1):\n",
        "    \"\"\"\n",
        "    Runs cross validation on dataset with evaluation\n",
        "\n",
        "    Splits data into k_folds. Then for each iteration applies scaling on\n",
        "    train and validation sets\n",
        "\n",
        "    :param num_folds: number of folds\n",
        "    :param data: the train dataset pre split into train/val (aif360)\n",
        "    :param reg_strength: degree of regularization (lower number is more reg)\n",
        "    :param del_index: column index of sensitive feature to drop\n",
        "    :return: mean accuracy across folds\n",
        "    \"\"\"\n",
        "    accuracies = []\n",
        "    equality_of_opp = []\n",
        "\n",
        "    # Convert aif360 dataset to numpy array\n",
        "\n",
        "    data_features = np.asarray(data.features)\n",
        "    data_labels = np.asarray(data.labels)\n",
        "\n",
        "    num_examples = len(data_features)\n",
        "\n",
        "    for i, (train_indices, val_indices) in enumerate(get_train_val_id_per_fold(num_folds, num_examples)):\n",
        "        #print(f'------------{i}--------')\n",
        "        # Join x aand y, shuffle, then split\n",
        "        scaler = StandardScaler()\n",
        "\n",
        "        # Split data into training and validation set\n",
        "        x_training = scaler.fit_transform(data_features[train_indices, :])\n",
        "        x_training_del = np.delete(x_training, del_index, 1) # drops the sensitive feature\n",
        "        y_training = data_labels[train_indices, :].ravel()\n",
        "\n",
        "        x_validation = scaler.transform(data_features[val_indices, :])\n",
        "        x_validation_del = np.delete(x_validation, del_index, 1) # drops the sensitive feature\n",
        "        y_validation = data_labels[val_indices, :].ravel()\n",
        "\n",
        "        # Reweighting\n",
        "        if rw is True:\n",
        "          RW = Reweighing(unprivileged_groups=unprivileged_groups, privileged_groups=privileged_groups)\n",
        "          train_weights = RW.fit_transform(data.subset(train_indices))\n",
        "\n",
        "        # Train the model\n",
        "        model = LogisticRegression(solver='liblinear', random_state=1, C = reg_strength)\n",
        "        \n",
        "        if rw is True:\n",
        "          model.fit(x_training_del, y_training, sample_weight=train_weights.instance_weights)\n",
        "        else:\n",
        "          model.fit(x_training_del, y_training)\n",
        "        \n",
        "        # Make predictions on validation set\n",
        "        val_predictions = model.predict(x_validation_del) \n",
        "\n",
        "        # Compute accuracy for fold and add to list\n",
        "        accuracy = accuracy_score(y_validation, val_predictions)\n",
        "        accuracies.append(accuracy)\n",
        "\n",
        "        # # train accuracies\n",
        "        train_preds = model.predict(x_training_del)\n",
        "        #print(accuracy_score(y_training, train_preds))\n",
        "\n",
        "\n",
        "        # Compute fairness metric\n",
        "        validation_aif_preds = deepcopy(data)\n",
        "        validation_aif_preds = validation_aif_preds.subset(val_indices)\n",
        "        validation_aif_preds.labels = val_predictions.reshape(-1,1)\n",
        "        \n",
        "        validation_aif = deepcopy(data)\n",
        "        validation_aif = validation_aif.subset(val_indices)\n",
        "        \n",
        "        metric = ClassificationMetric(validation_aif, validation_aif_preds, unprivileged_groups=unprivileged_groups, privileged_groups=privileged_groups)\n",
        "        e_o_f = (metric.equal_opportunity_difference())\n",
        "        equality_of_opp.append(e_o_f)\n",
        "\n",
        "    return np.mean(np.array(accuracies)), np.mean(np.array(equality_of_opp))"
      ],
      "metadata": {
        "id": "X-czbOdd4Kzb"
      },
      "execution_count": null,
      "outputs": []
    },
    {
      "cell_type": "code",
      "source": [
        "def regularization_analysis_del(reg_list, num_folds, data, privileged_groups, unprivileged_groups, rw=False, del_index=1):\n",
        "  accuracy_list_across_regs = []\n",
        "  fairness_list_across_regs = []\n",
        "\n",
        "  for reg in reg_list:\n",
        "    mean_accuracy, mean_fairness = run_cross_validation_del(num_folds, data, reg, privileged_groups, unprivileged_groups, rw, del_index)\n",
        "    accuracy_list_across_regs.append(mean_accuracy)\n",
        "    fairness_list_across_regs.append(mean_fairness)\n",
        "\n",
        "  return accuracy_list_across_regs, fairness_list_across_regs"
      ],
      "metadata": {
        "id": "gFAmq7D_-sUO"
      },
      "execution_count": null,
      "outputs": []
    },
    {
      "cell_type": "code",
      "source": [
        "def get_test_performance_del(train_aif, test_aif, reg_strength, unprivileged_groups, privileged_groups, rw=False, del_index=1):\n",
        "  # Re-train chosen model on whole training data\n",
        "  scaler = StandardScaler()\n",
        "\n",
        "  train_aif_copy = deepcopy(train_aif)\n",
        "  test_aif_copy = deepcopy(test_aif)\n",
        "  \n",
        "  x_training = scaler.fit_transform(train_aif_copy.features)\n",
        "  x_training_del = np.delete(x_training, del_index, 1)\n",
        "  y_training = train_aif_copy.labels.ravel()\n",
        "\n",
        "  x_test = scaler.transform(test_aif_copy.features)\n",
        "  x_test_del = np.delete(x_test, del_index, 1)\n",
        "  y_test = test_aif_copy.labels.ravel()\n",
        "\n",
        "  # Reweighting\n",
        "  if rw is True:\n",
        "    RW = Reweighing(unprivileged_groups=unprivileged_groups, privileged_groups=privileged_groups)\n",
        "    train_weights = RW.fit_transform(train_aif_copy)\n",
        "\n",
        "  # Train the model\n",
        "  model = LogisticRegression(solver='liblinear', random_state=1, C = reg_strength)\n",
        "        \n",
        "  if rw is True:\n",
        "    model.fit(x_training_del, y_training, sample_weight=train_weights.instance_weights)\n",
        "  else:\n",
        "    model.fit(x_training_del, y_training)\n",
        "\n",
        "  # Predict test set\n",
        "  test_predictions = model.predict(x_test_del) \n",
        "\n",
        "  # Compute accuracy\n",
        "  accuracy = (accuracy_score(y_test, test_predictions))\n",
        "\n",
        "  # Compute fairness\n",
        "  test_preds = deepcopy(test_aif_copy)\n",
        "  test_preds.labels = test_predictions.reshape(-1,1)\n",
        "  test_aif_copy_copy = deepcopy(test_aif_copy)\n",
        "  metric = ClassificationMetric(test_aif_copy_copy, test_preds, unprivileged_groups=unprivileged_groups, privileged_groups=privileged_groups)\n",
        "  e_o_d = (metric.equal_opportunity_difference())\n",
        "\n",
        "  return accuracy, e_o_d"
      ],
      "metadata": {
        "id": "F9kvTX3SV35F"
      },
      "execution_count": null,
      "outputs": []
    },
    {
      "cell_type": "markdown",
      "source": [
        "### Set index column to be deleted (depends on dataset)"
      ],
      "metadata": {
        "id": "UVmrqqqIKXrg"
      }
    },
    {
      "cell_type": "code",
      "source": [
        "# For Adult Census choose del_index = 1, for German Credit del_index = 0\n",
        "del_index = 0"
      ],
      "metadata": {
        "id": "AEtvd1Tuc1-W"
      },
      "execution_count": null,
      "outputs": []
    },
    {
      "cell_type": "markdown",
      "source": [
        "### Models 1 and 2 (standard)"
      ],
      "metadata": {
        "id": "royqJeV9Yjrv"
      }
    },
    {
      "cell_type": "code",
      "source": [
        "acc_task_1, eod_task_1 = regularization_analysis_del(reg_list, 5, dataset_orig, privileged_groups, unprivileged_groups, rw=False, del_index=del_index)"
      ],
      "metadata": {
        "id": "s5qwjqalAeZI"
      },
      "execution_count": null,
      "outputs": []
    },
    {
      "cell_type": "code",
      "source": [
        "draw_tradeoff(reg_list, acc_task_1, eod_task_1)"
      ],
      "metadata": {
        "colab": {
          "base_uri": "https://localhost:8080/",
          "height": 293
        },
        "id": "o5s-C_7QBQAi",
        "outputId": "f851e977-2a46-4519-be4e-19e3cc6fb56f"
      },
      "execution_count": null,
      "outputs": [
        {
          "output_type": "display_data",
          "data": {
            "application/javascript": [
              "\n",
              "    async function download(id, filename, size) {\n",
              "      if (!google.colab.kernel.accessAllowed) {\n",
              "        return;\n",
              "      }\n",
              "      const div = document.createElement('div');\n",
              "      const label = document.createElement('label');\n",
              "      label.textContent = `Downloading \"${filename}\": `;\n",
              "      div.appendChild(label);\n",
              "      const progress = document.createElement('progress');\n",
              "      progress.max = size;\n",
              "      div.appendChild(progress);\n",
              "      document.body.appendChild(div);\n",
              "\n",
              "      const buffers = [];\n",
              "      let downloaded = 0;\n",
              "\n",
              "      const channel = await google.colab.kernel.comms.open(id);\n",
              "      // Send a message to notify the kernel that we're ready.\n",
              "      channel.send({})\n",
              "\n",
              "      for await (const message of channel.messages) {\n",
              "        // Send a message to notify the kernel that we're ready.\n",
              "        channel.send({})\n",
              "        if (message.buffers) {\n",
              "          for (const buffer of message.buffers) {\n",
              "            buffers.push(buffer);\n",
              "            downloaded += buffer.byteLength;\n",
              "            progress.value = downloaded;\n",
              "          }\n",
              "        }\n",
              "      }\n",
              "      const blob = new Blob(buffers, {type: 'application/binary'});\n",
              "      const a = document.createElement('a');\n",
              "      a.href = window.URL.createObjectURL(blob);\n",
              "      a.download = filename;\n",
              "      div.appendChild(a);\n",
              "      a.click();\n",
              "      div.remove();\n",
              "    }\n",
              "  "
            ],
            "text/plain": [
              "<IPython.core.display.Javascript object>"
            ]
          },
          "metadata": {}
        },
        {
          "output_type": "display_data",
          "data": {
            "application/javascript": [
              "download(\"download_81b16aff-df9a-42b6-bd53-a196883a5a44\", \"figure_ethics.png\", 26855)"
            ],
            "text/plain": [
              "<IPython.core.display.Javascript object>"
            ]
          },
          "metadata": {}
        },
        {
          "output_type": "display_data",
          "data": {
            "image/png": "[encoded data removed]",
            "text/plain": [
              "<Figure size 504x288 with 2 Axes>"
            ]
          },
          "metadata": {
            "needs_background": "light"
          }
        }
      ]
    },
    {
      "cell_type": "code",
      "source": [
        "best_acc_index_task_1 = np.array(acc_task_1).argmax()\n",
        "best_eod_index_task_1 = np.argmin(np.abs(eod_task_1))\n",
        "print(reg_list[best_acc_index_task_1])\n",
        "print(reg_list[best_eod_index_task_1])"
      ],
      "metadata": {
        "colab": {
          "base_uri": "https://localhost:8080/"
        },
        "id": "TuQK9VyHVSRZ",
        "outputId": "3dd0f093-7bcf-49a2-8b46-cd33b10b9e90"
      },
      "execution_count": null,
      "outputs": [
        {
          "output_type": "stream",
          "name": "stdout",
          "text": [
            "1000\n",
            "10000\n"
          ]
        }
      ]
    },
    {
      "cell_type": "code",
      "source": [
        "# Test performance accuracy based selection:\n",
        "get_test_performance_del(train, test, reg_list[best_acc_index_task_1], unprivileged_groups, privileged_groups, rw=False, del_index=del_index)"
      ],
      "metadata": {
        "colab": {
          "base_uri": "https://localhost:8080/"
        },
        "id": "TmUtRLCOVxED",
        "outputId": "4d3149a1-4bd2-4e16-fda2-08197543518f"
      },
      "execution_count": null,
      "outputs": [
        {
          "output_type": "execute_result",
          "data": {
            "text/plain": [
              "(0.6966666666666667, 0.0)"
            ]
          },
          "metadata": {},
          "execution_count": 88
        }
      ]
    },
    {
      "cell_type": "code",
      "source": [
        "# Test performance eod based selection:\n",
        "get_test_performance_del(train, test, reg_list[best_eod_index_task_1], unprivileged_groups, privileged_groups, rw=False, del_index=del_index)"
      ],
      "metadata": {
        "colab": {
          "base_uri": "https://localhost:8080/"
        },
        "id": "JL09o5K0YO6h",
        "outputId": "9cd73cb1-52c4-46cf-c202-b993f2e53c9b"
      },
      "execution_count": null,
      "outputs": [
        {
          "output_type": "execute_result",
          "data": {
            "text/plain": [
              "(0.6966666666666667, 0.0)"
            ]
          },
          "metadata": {},
          "execution_count": 89
        }
      ]
    },
    {
      "cell_type": "markdown",
      "source": [
        "### Models 3 and 4 (re-weighted)"
      ],
      "metadata": {
        "id": "7nUGgrOQYqMP"
      }
    },
    {
      "cell_type": "code",
      "source": [
        "acc_task_2, eod_task_2 = regularization_analysis_del(reg_list, 5, dataset_orig, privileged_groups, unprivileged_groups, rw=True, del_index=del_index)"
      ],
      "metadata": {
        "id": "EZC53KlqYnlB"
      },
      "execution_count": null,
      "outputs": []
    },
    {
      "cell_type": "code",
      "source": [
        "draw_tradeoff(reg_list, acc_task_2, eod_task_2)"
      ],
      "metadata": {
        "colab": {
          "base_uri": "https://localhost:8080/",
          "height": 293
        },
        "id": "pepfDHw5ZKSr",
        "outputId": "046a99b2-a415-421f-aef2-f601ef497db9"
      },
      "execution_count": null,
      "outputs": [
        {
          "output_type": "display_data",
          "data": {
            "application/javascript": [
              "\n",
              "    async function download(id, filename, size) {\n",
              "      if (!google.colab.kernel.accessAllowed) {\n",
              "        return;\n",
              "      }\n",
              "      const div = document.createElement('div');\n",
              "      const label = document.createElement('label');\n",
              "      label.textContent = `Downloading \"${filename}\": `;\n",
              "      div.appendChild(label);\n",
              "      const progress = document.createElement('progress');\n",
              "      progress.max = size;\n",
              "      div.appendChild(progress);\n",
              "      document.body.appendChild(div);\n",
              "\n",
              "      const buffers = [];\n",
              "      let downloaded = 0;\n",
              "\n",
              "      const channel = await google.colab.kernel.comms.open(id);\n",
              "      // Send a message to notify the kernel that we're ready.\n",
              "      channel.send({})\n",
              "\n",
              "      for await (const message of channel.messages) {\n",
              "        // Send a message to notify the kernel that we're ready.\n",
              "        channel.send({})\n",
              "        if (message.buffers) {\n",
              "          for (const buffer of message.buffers) {\n",
              "            buffers.push(buffer);\n",
              "            downloaded += buffer.byteLength;\n",
              "            progress.value = downloaded;\n",
              "          }\n",
              "        }\n",
              "      }\n",
              "      const blob = new Blob(buffers, {type: 'application/binary'});\n",
              "      const a = document.createElement('a');\n",
              "      a.href = window.URL.createObjectURL(blob);\n",
              "      a.download = filename;\n",
              "      div.appendChild(a);\n",
              "      a.click();\n",
              "      div.remove();\n",
              "    }\n",
              "  "
            ],
            "text/plain": [
              "<IPython.core.display.Javascript object>"
            ]
          },
          "metadata": {}
        },
        {
          "output_type": "display_data",
          "data": {
            "application/javascript": [
              "download(\"download_bb67e39d-d6b9-4a76-bbbe-ec073efaf56c\", \"figure_ethics.png\", 24782)"
            ],
            "text/plain": [
              "<IPython.core.display.Javascript object>"
            ]
          },
          "metadata": {}
        },
        {
          "output_type": "display_data",
          "data": {
            "image/png": "[encoded data removed]",
            "text/plain": [
              "<Figure size 504x288 with 2 Axes>"
            ]
          },
          "metadata": {
            "needs_background": "light"
          }
        }
      ]
    },
    {
      "cell_type": "code",
      "source": [
        "best_acc_index_task_2 = np.array(acc_task_2).argmax()\n",
        "best_eod_index_task_2 = np.argmin(np.abs(eod_task_2))\n",
        "print(reg_list[best_acc_index_task_2])\n",
        "print(reg_list[best_eod_index_task_2])"
      ],
      "metadata": {
        "colab": {
          "base_uri": "https://localhost:8080/"
        },
        "id": "_weLyT0jZcaz",
        "outputId": "cfc87b5b-4dc6-4e29-bac2-9bbf45d45635"
      },
      "execution_count": null,
      "outputs": [
        {
          "output_type": "stream",
          "name": "stdout",
          "text": [
            "100\n",
            "1000\n"
          ]
        }
      ]
    },
    {
      "cell_type": "code",
      "source": [
        "# Test performance accuracy based selection:\n",
        "get_test_performance_del(train, test, reg_list[best_acc_index_task_2], unprivileged_groups, privileged_groups, rw=True, del_index=del_index)"
      ],
      "metadata": {
        "colab": {
          "base_uri": "https://localhost:8080/"
        },
        "id": "G7ZF8xZTZc1n",
        "outputId": "cb177ad9-a1e3-47af-f9d9-bc3a03f524cf"
      },
      "execution_count": null,
      "outputs": [
        {
          "output_type": "execute_result",
          "data": {
            "text/plain": [
              "(0.6966666666666667, 0.0)"
            ]
          },
          "metadata": {},
          "execution_count": 93
        }
      ]
    },
    {
      "cell_type": "code",
      "source": [
        "# Test performance eod based selection:\n",
        "get_test_performance_del(train, test, reg_list[best_eod_index_task_2], unprivileged_groups, privileged_groups, rw=True, del_index=del_index)"
      ],
      "metadata": {
        "colab": {
          "base_uri": "https://localhost:8080/"
        },
        "id": "VOK8MrgpZuzC",
        "outputId": "7b1ccba8-2a7e-4355-f375-03de4f4edef5"
      },
      "execution_count": null,
      "outputs": [
        {
          "output_type": "execute_result",
          "data": {
            "text/plain": [
              "(0.6966666666666667, 0.0)"
            ]
          },
          "metadata": {},
          "execution_count": 94
        }
      ]
    },
    {
      "cell_type": "markdown",
      "source": [
        "### Models 5 and 6 (score based selection)"
      ],
      "metadata": {
        "id": "-m5NOLINaA9p"
      }
    },
    {
      "cell_type": "code",
      "source": [
        "acc_task_3_standard, eod_task_3_standard = regularization_analysis_del(reg_list, 5, dataset_orig, privileged_groups, unprivileged_groups, rw=False, del_index=del_index)"
      ],
      "metadata": {
        "id": "1M4z8g2iaFpf"
      },
      "execution_count": null,
      "outputs": []
    },
    {
      "cell_type": "code",
      "source": [
        "scores_standard = []\n",
        "for i in range(len(acc_task_3_standard)):\n",
        "  scores_standard.append(fairness_accuracy_score(acc_task_3_standard[i], eod_task_3_standard[i], 0.5))"
      ],
      "metadata": {
        "id": "nyZp3NlwbwKC"
      },
      "execution_count": null,
      "outputs": []
    },
    {
      "cell_type": "code",
      "source": [
        "plot_tradeoff_and_score(reg_list, acc_task_3_standard, eod_task_3_standard, scores_standard)"
      ],
      "metadata": {
        "colab": {
          "base_uri": "https://localhost:8080/",
          "height": 293
        },
        "id": "gZzB07j_bw4h",
        "outputId": "6790f6fc-89e9-4295-fe9d-c3ca445673ce"
      },
      "execution_count": null,
      "outputs": [
        {
          "output_type": "display_data",
          "data": {
            "application/javascript": [
              "\n",
              "    async function download(id, filename, size) {\n",
              "      if (!google.colab.kernel.accessAllowed) {\n",
              "        return;\n",
              "      }\n",
              "      const div = document.createElement('div');\n",
              "      const label = document.createElement('label');\n",
              "      label.textContent = `Downloading \"${filename}\": `;\n",
              "      div.appendChild(label);\n",
              "      const progress = document.createElement('progress');\n",
              "      progress.max = size;\n",
              "      div.appendChild(progress);\n",
              "      document.body.appendChild(div);\n",
              "\n",
              "      const buffers = [];\n",
              "      let downloaded = 0;\n",
              "\n",
              "      const channel = await google.colab.kernel.comms.open(id);\n",
              "      // Send a message to notify the kernel that we're ready.\n",
              "      channel.send({})\n",
              "\n",
              "      for await (const message of channel.messages) {\n",
              "        // Send a message to notify the kernel that we're ready.\n",
              "        channel.send({})\n",
              "        if (message.buffers) {\n",
              "          for (const buffer of message.buffers) {\n",
              "            buffers.push(buffer);\n",
              "            downloaded += buffer.byteLength;\n",
              "            progress.value = downloaded;\n",
              "          }\n",
              "        }\n",
              "      }\n",
              "      const blob = new Blob(buffers, {type: 'application/binary'});\n",
              "      const a = document.createElement('a');\n",
              "      a.href = window.URL.createObjectURL(blob);\n",
              "      a.download = filename;\n",
              "      div.appendChild(a);\n",
              "      a.click();\n",
              "      div.remove();\n",
              "    }\n",
              "  "
            ],
            "text/plain": [
              "<IPython.core.display.Javascript object>"
            ]
          },
          "metadata": {}
        },
        {
          "output_type": "display_data",
          "data": {
            "application/javascript": [
              "download(\"download_7bd5852a-5898-42aa-af34-4cee32b87b62\", \"figure_ethics.png\", 32594)"
            ],
            "text/plain": [
              "<IPython.core.display.Javascript object>"
            ]
          },
          "metadata": {}
        },
        {
          "output_type": "display_data",
          "data": {
            "image/png": "[encoded data removed]",
            "text/plain": [
              "<Figure size 432x288 with 1 Axes>"
            ]
          },
          "metadata": {
            "needs_background": "light"
          }
        }
      ]
    },
    {
      "cell_type": "code",
      "source": [
        "best_standard_model_index = np.array(scores_standard).argmax()\n",
        "print(reg_list[best_standard_model_index])\n",
        "print(np.array(scores_standard).max())"
      ],
      "metadata": {
        "colab": {
          "base_uri": "https://localhost:8080/"
        },
        "id": "SsUOCce4cHjZ",
        "outputId": "86b3d5f1-b7ea-4f43-ac48-b7f379b0d4e5"
      },
      "execution_count": null,
      "outputs": [
        {
          "output_type": "stream",
          "name": "stdout",
          "text": [
            "10000\n",
            "0.8495099627303018\n"
          ]
        }
      ]
    },
    {
      "cell_type": "code",
      "source": [
        "# Test set performance (standard model)\n",
        "get_test_performance_del(train, test, reg_list[best_standard_model_index], unprivileged_groups, privileged_groups, rw=False, del_index=del_index)"
      ],
      "metadata": {
        "colab": {
          "base_uri": "https://localhost:8080/"
        },
        "id": "au1i6UcBcI0G",
        "outputId": "99acc6f2-5e0e-42b1-8125-db1694627624"
      },
      "execution_count": null,
      "outputs": [
        {
          "output_type": "execute_result",
          "data": {
            "text/plain": [
              "(0.6966666666666667, 0.0)"
            ]
          },
          "metadata": {},
          "execution_count": 99
        }
      ]
    },
    {
      "cell_type": "code",
      "source": [
        "acc_task_3_fairness, eod_task_3_fairness = regularization_analysis_del(reg_list, 5, dataset_orig, privileged_groups, unprivileged_groups, rw=True, del_index=del_index)"
      ],
      "metadata": {
        "id": "aptTAEKtlkeD"
      },
      "execution_count": null,
      "outputs": []
    },
    {
      "cell_type": "code",
      "source": [
        "scores_fairness = []\n",
        "for i in range(len(acc_task_3_fairness)):\n",
        "  scores_fairness.append(fairness_accuracy_score(acc_task_3_fairness[i], eod_task_3_fairness[i], 0.5))"
      ],
      "metadata": {
        "id": "WWicK1EYls0t"
      },
      "execution_count": null,
      "outputs": []
    },
    {
      "cell_type": "code",
      "source": [
        "best_fairness_model_index = np.array(scores_fairness).argmax()\n",
        "print(reg_list[best_fairness_model_index])\n",
        "print(np.array(scores_fairness).max())"
      ],
      "metadata": {
        "colab": {
          "base_uri": "https://localhost:8080/"
        },
        "id": "3-VvnR_Ml1ax",
        "outputId": "f3222c0a-339d-427d-f184-37d5242a4ae5"
      },
      "execution_count": null,
      "outputs": [
        {
          "output_type": "stream",
          "name": "stdout",
          "text": [
            "0.01\n",
            "0.8484787188508085\n"
          ]
        }
      ]
    },
    {
      "cell_type": "code",
      "source": [
        "plot_tradeoff_and_score(reg_list, acc_task_3_fairness, eod_task_3_fairness, scores_fairness)"
      ],
      "metadata": {
        "colab": {
          "base_uri": "https://localhost:8080/",
          "height": 293
        },
        "id": "XBpVyHGDmJf0",
        "outputId": "d8ede164-67bd-453d-b24c-52e556b9cbed"
      },
      "execution_count": null,
      "outputs": [
        {
          "output_type": "display_data",
          "data": {
            "application/javascript": [
              "\n",
              "    async function download(id, filename, size) {\n",
              "      if (!google.colab.kernel.accessAllowed) {\n",
              "        return;\n",
              "      }\n",
              "      const div = document.createElement('div');\n",
              "      const label = document.createElement('label');\n",
              "      label.textContent = `Downloading \"${filename}\": `;\n",
              "      div.appendChild(label);\n",
              "      const progress = document.createElement('progress');\n",
              "      progress.max = size;\n",
              "      div.appendChild(progress);\n",
              "      document.body.appendChild(div);\n",
              "\n",
              "      const buffers = [];\n",
              "      let downloaded = 0;\n",
              "\n",
              "      const channel = await google.colab.kernel.comms.open(id);\n",
              "      // Send a message to notify the kernel that we're ready.\n",
              "      channel.send({})\n",
              "\n",
              "      for await (const message of channel.messages) {\n",
              "        // Send a message to notify the kernel that we're ready.\n",
              "        channel.send({})\n",
              "        if (message.buffers) {\n",
              "          for (const buffer of message.buffers) {\n",
              "            buffers.push(buffer);\n",
              "            downloaded += buffer.byteLength;\n",
              "            progress.value = downloaded;\n",
              "          }\n",
              "        }\n",
              "      }\n",
              "      const blob = new Blob(buffers, {type: 'application/binary'});\n",
              "      const a = document.createElement('a');\n",
              "      a.href = window.URL.createObjectURL(blob);\n",
              "      a.download = filename;\n",
              "      div.appendChild(a);\n",
              "      a.click();\n",
              "      div.remove();\n",
              "    }\n",
              "  "
            ],
            "text/plain": [
              "<IPython.core.display.Javascript object>"
            ]
          },
          "metadata": {}
        },
        {
          "output_type": "display_data",
          "data": {
            "application/javascript": [
              "download(\"download_76b8811d-8f10-4837-bac7-2348fd792615\", \"figure_ethics.png\", 29241)"
            ],
            "text/plain": [
              "<IPython.core.display.Javascript object>"
            ]
          },
          "metadata": {}
        },
        {
          "output_type": "display_data",
          "data": {
            "image/png": "[encoded data removed]",
            "text/plain": [
              "<Figure size 432x288 with 1 Axes>"
            ]
          },
          "metadata": {
            "needs_background": "light"
          }
        }
      ]
    },
    {
      "cell_type": "code",
      "source": [
        "# Test set performance (fairness model)\n",
        "get_test_performance_del(train, test, reg_list[best_fairness_model_index], unprivileged_groups, privileged_groups, rw=True, del_index=del_index)"
      ],
      "metadata": {
        "colab": {
          "base_uri": "https://localhost:8080/"
        },
        "id": "Yb58h5xnmgaM",
        "outputId": "317c5828-4655-4d7e-d6bb-d17add334cca"
      },
      "execution_count": null,
      "outputs": [
        {
          "output_type": "execute_result",
          "data": {
            "text/plain": [
              "(0.6966666666666667, 0.0)"
            ]
          },
          "metadata": {},
          "execution_count": 104
        }
      ]
    }
  ]
}